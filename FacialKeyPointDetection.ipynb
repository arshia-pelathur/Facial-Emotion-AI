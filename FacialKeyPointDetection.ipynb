{
 "cells": [
  {
   "cell_type": "code",
   "execution_count": 1,
   "metadata": {},
   "outputs": [],
   "source": [
    "# Importing Libraries\n",
    "import numpy as np\n",
    "import pandas as pd\n",
    "import matplotlib.pyplot as plt\n",
    "import random\n",
    "from sklearn.model_selection import train_test_split"
   ]
  },
  {
   "cell_type": "code",
   "execution_count": 2,
   "metadata": {},
   "outputs": [
    {
     "name": "stdout",
     "output_type": "stream",
     "text": [
      "(2140, 31)\n",
      "<class 'pandas.core.frame.DataFrame'>\n",
      "RangeIndex: 2140 entries, 0 to 2139\n",
      "Data columns (total 31 columns):\n",
      " #   Column                     Non-Null Count  Dtype  \n",
      "---  ------                     --------------  -----  \n",
      " 0   left_eye_center_x          2140 non-null   float64\n",
      " 1   left_eye_center_y          2140 non-null   float64\n",
      " 2   right_eye_center_x         2140 non-null   float64\n",
      " 3   right_eye_center_y         2140 non-null   float64\n",
      " 4   left_eye_inner_corner_x    2140 non-null   float64\n",
      " 5   left_eye_inner_corner_y    2140 non-null   float64\n",
      " 6   left_eye_outer_corner_x    2140 non-null   float64\n",
      " 7   left_eye_outer_corner_y    2140 non-null   float64\n",
      " 8   right_eye_inner_corner_x   2140 non-null   float64\n",
      " 9   right_eye_inner_corner_y   2140 non-null   float64\n",
      " 10  right_eye_outer_corner_x   2140 non-null   float64\n",
      " 11  right_eye_outer_corner_y   2140 non-null   float64\n",
      " 12  left_eyebrow_inner_end_x   2140 non-null   float64\n",
      " 13  left_eyebrow_inner_end_y   2140 non-null   float64\n",
      " 14  left_eyebrow_outer_end_x   2140 non-null   float64\n",
      " 15  left_eyebrow_outer_end_y   2140 non-null   float64\n",
      " 16  right_eyebrow_inner_end_x  2140 non-null   float64\n",
      " 17  right_eyebrow_inner_end_y  2140 non-null   float64\n",
      " 18  right_eyebrow_outer_end_x  2140 non-null   float64\n",
      " 19  right_eyebrow_outer_end_y  2140 non-null   float64\n",
      " 20  nose_tip_x                 2140 non-null   float64\n",
      " 21  nose_tip_y                 2140 non-null   float64\n",
      " 22  mouth_left_corner_x        2140 non-null   float64\n",
      " 23  mouth_left_corner_y        2140 non-null   float64\n",
      " 24  mouth_right_corner_x       2140 non-null   float64\n",
      " 25  mouth_right_corner_y       2140 non-null   float64\n",
      " 26  mouth_center_top_lip_x     2140 non-null   float64\n",
      " 27  mouth_center_top_lip_y     2140 non-null   float64\n",
      " 28  mouth_center_bottom_lip_x  2140 non-null   float64\n",
      " 29  mouth_center_bottom_lip_y  2140 non-null   float64\n",
      " 30  Image                      2140 non-null   object \n",
      "dtypes: float64(30), object(1)\n",
      "memory usage: 518.4+ KB\n"
     ]
    }
   ],
   "source": [
    "# Reading data into notebook\n",
    "data = pd.read_csv('data.csv')\n",
    "print(data.shape)\n",
    "\n",
    "# No missing values.\n",
    "# Most columns datatype is of float\n",
    "# Last column in a string\n",
    "data.info()"
   ]
  },
  {
   "cell_type": "code",
   "execution_count": 3,
   "metadata": {},
   "outputs": [
    {
     "data": {
      "text/html": [
       "<div>\n",
       "<style scoped>\n",
       "    .dataframe tbody tr th:only-of-type {\n",
       "        vertical-align: middle;\n",
       "    }\n",
       "\n",
       "    .dataframe tbody tr th {\n",
       "        vertical-align: top;\n",
       "    }\n",
       "\n",
       "    .dataframe thead th {\n",
       "        text-align: right;\n",
       "    }\n",
       "</style>\n",
       "<table border=\"1\" class=\"dataframe\">\n",
       "  <thead>\n",
       "    <tr style=\"text-align: right;\">\n",
       "      <th></th>\n",
       "      <th>left_eye_center_x</th>\n",
       "      <th>left_eye_center_y</th>\n",
       "      <th>right_eye_center_x</th>\n",
       "      <th>right_eye_center_y</th>\n",
       "      <th>left_eye_inner_corner_x</th>\n",
       "      <th>left_eye_inner_corner_y</th>\n",
       "      <th>left_eye_outer_corner_x</th>\n",
       "      <th>left_eye_outer_corner_y</th>\n",
       "      <th>right_eye_inner_corner_x</th>\n",
       "      <th>right_eye_inner_corner_y</th>\n",
       "      <th>...</th>\n",
       "      <th>nose_tip_x</th>\n",
       "      <th>nose_tip_y</th>\n",
       "      <th>mouth_left_corner_x</th>\n",
       "      <th>mouth_left_corner_y</th>\n",
       "      <th>mouth_right_corner_x</th>\n",
       "      <th>mouth_right_corner_y</th>\n",
       "      <th>mouth_center_top_lip_x</th>\n",
       "      <th>mouth_center_top_lip_y</th>\n",
       "      <th>mouth_center_bottom_lip_x</th>\n",
       "      <th>mouth_center_bottom_lip_y</th>\n",
       "    </tr>\n",
       "  </thead>\n",
       "  <tbody>\n",
       "    <tr>\n",
       "      <th>count</th>\n",
       "      <td>2140.000000</td>\n",
       "      <td>2140.000000</td>\n",
       "      <td>2140.000000</td>\n",
       "      <td>2140.000000</td>\n",
       "      <td>2140.000000</td>\n",
       "      <td>2140.000000</td>\n",
       "      <td>2140.000000</td>\n",
       "      <td>2140.000000</td>\n",
       "      <td>2140.000000</td>\n",
       "      <td>2140.000000</td>\n",
       "      <td>...</td>\n",
       "      <td>2140.000000</td>\n",
       "      <td>2140.000000</td>\n",
       "      <td>2140.000000</td>\n",
       "      <td>2140.000000</td>\n",
       "      <td>2140.000000</td>\n",
       "      <td>2140.000000</td>\n",
       "      <td>2140.000000</td>\n",
       "      <td>2140.000000</td>\n",
       "      <td>2140.000000</td>\n",
       "      <td>2140.000000</td>\n",
       "    </tr>\n",
       "    <tr>\n",
       "      <th>mean</th>\n",
       "      <td>66.221549</td>\n",
       "      <td>36.842274</td>\n",
       "      <td>29.640269</td>\n",
       "      <td>37.063815</td>\n",
       "      <td>59.272128</td>\n",
       "      <td>37.856014</td>\n",
       "      <td>73.412473</td>\n",
       "      <td>37.640110</td>\n",
       "      <td>36.603107</td>\n",
       "      <td>37.920852</td>\n",
       "      <td>...</td>\n",
       "      <td>47.952141</td>\n",
       "      <td>57.253926</td>\n",
       "      <td>63.419076</td>\n",
       "      <td>75.887660</td>\n",
       "      <td>32.967365</td>\n",
       "      <td>76.134065</td>\n",
       "      <td>48.081325</td>\n",
       "      <td>72.681125</td>\n",
       "      <td>48.149654</td>\n",
       "      <td>82.630412</td>\n",
       "    </tr>\n",
       "    <tr>\n",
       "      <th>std</th>\n",
       "      <td>2.087683</td>\n",
       "      <td>2.294027</td>\n",
       "      <td>2.051575</td>\n",
       "      <td>2.234334</td>\n",
       "      <td>2.005631</td>\n",
       "      <td>2.034500</td>\n",
       "      <td>2.701639</td>\n",
       "      <td>2.684162</td>\n",
       "      <td>1.822784</td>\n",
       "      <td>2.009505</td>\n",
       "      <td>...</td>\n",
       "      <td>3.276053</td>\n",
       "      <td>4.528635</td>\n",
       "      <td>3.650131</td>\n",
       "      <td>4.438565</td>\n",
       "      <td>3.595103</td>\n",
       "      <td>4.259514</td>\n",
       "      <td>2.723274</td>\n",
       "      <td>5.108675</td>\n",
       "      <td>3.032389</td>\n",
       "      <td>4.813557</td>\n",
       "    </tr>\n",
       "    <tr>\n",
       "      <th>min</th>\n",
       "      <td>47.835757</td>\n",
       "      <td>23.832996</td>\n",
       "      <td>18.922611</td>\n",
       "      <td>24.773072</td>\n",
       "      <td>41.779381</td>\n",
       "      <td>27.190098</td>\n",
       "      <td>52.947144</td>\n",
       "      <td>26.250023</td>\n",
       "      <td>24.112624</td>\n",
       "      <td>26.250023</td>\n",
       "      <td>...</td>\n",
       "      <td>24.472590</td>\n",
       "      <td>41.558400</td>\n",
       "      <td>43.869480</td>\n",
       "      <td>57.023258</td>\n",
       "      <td>9.778137</td>\n",
       "      <td>56.690208</td>\n",
       "      <td>32.260312</td>\n",
       "      <td>56.719043</td>\n",
       "      <td>33.047605</td>\n",
       "      <td>57.232296</td>\n",
       "    </tr>\n",
       "    <tr>\n",
       "      <th>25%</th>\n",
       "      <td>65.046300</td>\n",
       "      <td>35.468842</td>\n",
       "      <td>28.472224</td>\n",
       "      <td>35.818377</td>\n",
       "      <td>58.113054</td>\n",
       "      <td>36.607950</td>\n",
       "      <td>71.741978</td>\n",
       "      <td>36.102409</td>\n",
       "      <td>35.495730</td>\n",
       "      <td>36.766783</td>\n",
       "      <td>...</td>\n",
       "      <td>46.495330</td>\n",
       "      <td>54.466000</td>\n",
       "      <td>61.341291</td>\n",
       "      <td>72.874263</td>\n",
       "      <td>30.879288</td>\n",
       "      <td>73.280038</td>\n",
       "      <td>46.580004</td>\n",
       "      <td>69.271669</td>\n",
       "      <td>46.492000</td>\n",
       "      <td>79.417480</td>\n",
       "    </tr>\n",
       "    <tr>\n",
       "      <th>50%</th>\n",
       "      <td>66.129065</td>\n",
       "      <td>36.913319</td>\n",
       "      <td>29.655440</td>\n",
       "      <td>37.048085</td>\n",
       "      <td>59.327154</td>\n",
       "      <td>37.845220</td>\n",
       "      <td>73.240045</td>\n",
       "      <td>37.624207</td>\n",
       "      <td>36.620735</td>\n",
       "      <td>37.920336</td>\n",
       "      <td>...</td>\n",
       "      <td>47.900511</td>\n",
       "      <td>57.638582</td>\n",
       "      <td>63.199057</td>\n",
       "      <td>75.682465</td>\n",
       "      <td>33.034022</td>\n",
       "      <td>75.941985</td>\n",
       "      <td>47.939031</td>\n",
       "      <td>72.395978</td>\n",
       "      <td>47.980854</td>\n",
       "      <td>82.388899</td>\n",
       "    </tr>\n",
       "    <tr>\n",
       "      <th>75%</th>\n",
       "      <td>67.332093</td>\n",
       "      <td>38.286438</td>\n",
       "      <td>30.858673</td>\n",
       "      <td>38.333884</td>\n",
       "      <td>60.521492</td>\n",
       "      <td>39.195431</td>\n",
       "      <td>74.978684</td>\n",
       "      <td>39.308331</td>\n",
       "      <td>37.665280</td>\n",
       "      <td>39.143921</td>\n",
       "      <td>...</td>\n",
       "      <td>49.260657</td>\n",
       "      <td>60.303524</td>\n",
       "      <td>65.302398</td>\n",
       "      <td>78.774969</td>\n",
       "      <td>35.063575</td>\n",
       "      <td>78.884031</td>\n",
       "      <td>49.290000</td>\n",
       "      <td>75.840286</td>\n",
       "      <td>49.551936</td>\n",
       "      <td>85.697976</td>\n",
       "    </tr>\n",
       "    <tr>\n",
       "      <th>max</th>\n",
       "      <td>78.013082</td>\n",
       "      <td>46.132421</td>\n",
       "      <td>42.495172</td>\n",
       "      <td>45.980981</td>\n",
       "      <td>69.023030</td>\n",
       "      <td>47.190316</td>\n",
       "      <td>87.032252</td>\n",
       "      <td>49.653825</td>\n",
       "      <td>47.293746</td>\n",
       "      <td>44.887301</td>\n",
       "      <td>...</td>\n",
       "      <td>65.279654</td>\n",
       "      <td>75.992731</td>\n",
       "      <td>84.767123</td>\n",
       "      <td>94.673637</td>\n",
       "      <td>50.973348</td>\n",
       "      <td>93.443176</td>\n",
       "      <td>61.804506</td>\n",
       "      <td>93.916338</td>\n",
       "      <td>62.438095</td>\n",
       "      <td>95.808983</td>\n",
       "    </tr>\n",
       "  </tbody>\n",
       "</table>\n",
       "<p>8 rows × 30 columns</p>\n",
       "</div>"
      ],
      "text/plain": [
       "       left_eye_center_x  left_eye_center_y  right_eye_center_x  \\\n",
       "count        2140.000000        2140.000000         2140.000000   \n",
       "mean           66.221549          36.842274           29.640269   \n",
       "std             2.087683           2.294027            2.051575   \n",
       "min            47.835757          23.832996           18.922611   \n",
       "25%            65.046300          35.468842           28.472224   \n",
       "50%            66.129065          36.913319           29.655440   \n",
       "75%            67.332093          38.286438           30.858673   \n",
       "max            78.013082          46.132421           42.495172   \n",
       "\n",
       "       right_eye_center_y  left_eye_inner_corner_x  left_eye_inner_corner_y  \\\n",
       "count         2140.000000              2140.000000              2140.000000   \n",
       "mean            37.063815                59.272128                37.856014   \n",
       "std              2.234334                 2.005631                 2.034500   \n",
       "min             24.773072                41.779381                27.190098   \n",
       "25%             35.818377                58.113054                36.607950   \n",
       "50%             37.048085                59.327154                37.845220   \n",
       "75%             38.333884                60.521492                39.195431   \n",
       "max             45.980981                69.023030                47.190316   \n",
       "\n",
       "       left_eye_outer_corner_x  left_eye_outer_corner_y  \\\n",
       "count              2140.000000              2140.000000   \n",
       "mean                 73.412473                37.640110   \n",
       "std                   2.701639                 2.684162   \n",
       "min                  52.947144                26.250023   \n",
       "25%                  71.741978                36.102409   \n",
       "50%                  73.240045                37.624207   \n",
       "75%                  74.978684                39.308331   \n",
       "max                  87.032252                49.653825   \n",
       "\n",
       "       right_eye_inner_corner_x  right_eye_inner_corner_y  ...   nose_tip_x  \\\n",
       "count               2140.000000               2140.000000  ...  2140.000000   \n",
       "mean                  36.603107                 37.920852  ...    47.952141   \n",
       "std                    1.822784                  2.009505  ...     3.276053   \n",
       "min                   24.112624                 26.250023  ...    24.472590   \n",
       "25%                   35.495730                 36.766783  ...    46.495330   \n",
       "50%                   36.620735                 37.920336  ...    47.900511   \n",
       "75%                   37.665280                 39.143921  ...    49.260657   \n",
       "max                   47.293746                 44.887301  ...    65.279654   \n",
       "\n",
       "        nose_tip_y  mouth_left_corner_x  mouth_left_corner_y  \\\n",
       "count  2140.000000          2140.000000          2140.000000   \n",
       "mean     57.253926            63.419076            75.887660   \n",
       "std       4.528635             3.650131             4.438565   \n",
       "min      41.558400            43.869480            57.023258   \n",
       "25%      54.466000            61.341291            72.874263   \n",
       "50%      57.638582            63.199057            75.682465   \n",
       "75%      60.303524            65.302398            78.774969   \n",
       "max      75.992731            84.767123            94.673637   \n",
       "\n",
       "       mouth_right_corner_x  mouth_right_corner_y  mouth_center_top_lip_x  \\\n",
       "count           2140.000000           2140.000000             2140.000000   \n",
       "mean              32.967365             76.134065               48.081325   \n",
       "std                3.595103              4.259514                2.723274   \n",
       "min                9.778137             56.690208               32.260312   \n",
       "25%               30.879288             73.280038               46.580004   \n",
       "50%               33.034022             75.941985               47.939031   \n",
       "75%               35.063575             78.884031               49.290000   \n",
       "max               50.973348             93.443176               61.804506   \n",
       "\n",
       "       mouth_center_top_lip_y  mouth_center_bottom_lip_x  \\\n",
       "count             2140.000000                2140.000000   \n",
       "mean                72.681125                  48.149654   \n",
       "std                  5.108675                   3.032389   \n",
       "min                 56.719043                  33.047605   \n",
       "25%                 69.271669                  46.492000   \n",
       "50%                 72.395978                  47.980854   \n",
       "75%                 75.840286                  49.551936   \n",
       "max                 93.916338                  62.438095   \n",
       "\n",
       "       mouth_center_bottom_lip_y  \n",
       "count                2140.000000  \n",
       "mean                   82.630412  \n",
       "std                     4.813557  \n",
       "min                    57.232296  \n",
       "25%                    79.417480  \n",
       "50%                    82.388899  \n",
       "75%                    85.697976  \n",
       "max                    95.808983  \n",
       "\n",
       "[8 rows x 30 columns]"
      ]
     },
     "execution_count": 3,
     "metadata": {},
     "output_type": "execute_result"
    }
   ],
   "source": [
    "#### Image values are given as a list of strings. Reshaping the data to 96x96\n",
    "data['Image_reshaped'] = data.Image.apply(lambda row:np.array(row.split(' ')).astype('int').reshape(96,96))\n",
    "data.describe()"
   ]
  },
  {
   "cell_type": "markdown",
   "metadata": {},
   "source": [
    "### Image Visualization"
   ]
  },
  {
   "cell_type": "code",
   "execution_count": null,
   "metadata": {},
   "outputs": [
    {
     "ename": "",
     "evalue": "",
     "output_type": "error",
     "traceback": [
      "\u001b[1;31mCannot execute code, session has been disposed. Please try restarting the Kernel."
     ]
    },
    {
     "ename": "",
     "evalue": "",
     "output_type": "error",
     "traceback": [
      "\u001b[1;31mThe Kernel crashed while executing code in the the current cell or a previous cell. Please review the code in the cell(s) to identify a possible cause of the failure. Click <a href='https://aka.ms/vscodeJupyterKernelCrash'>here</a> for more info. View Jupyter <a href='command:jupyter.viewOutput'>log</a> for further details."
     ]
    }
   ],
   "source": [
    "figure = plt.figure(figsize=(20,20))        # choosing the figure size for the entire plot\n",
    "\n",
    "for i in range(30):\n",
    "    ax = figure.add_subplot(5,6,i+1)         # to above figure size, choosing the display of subplots\n",
    "    k = np.random.randint(len(data))              # Displays random set of images for every run\n",
    "    img = plt.imshow(data.Image_reshaped[k],cmap='gray')   # plots grayscale image\n",
    "    for factor in range(0,data.shape[1]-2,2):\n",
    "        plt.plot(data.loc[k][factor],data.loc[k][factor+1],'r*')       # key facial factors for every image displayed"
   ]
  },
  {
   "cell_type": "markdown",
   "metadata": {},
   "source": [
    "#### Image Augmentation "
   ]
  },
  {
   "cell_type": "markdown",
   "metadata": {},
   "source": [
    "##### 1. Horizontal Flipping - Along Y Axis"
   ]
  },
  {
   "cell_type": "code",
   "execution_count": 4,
   "metadata": {},
   "outputs": [],
   "source": [
    "data_copy = data.copy()\n",
    "data_copy['Image'] = data_copy['Image_reshaped'].apply(lambda i: np.flip(i,axis=1)) # axis 1 means y axis. Flips every row of image data horizonataly\n",
    "\n",
    "# Flipping along y axis keeps the y coordinates the same while the x coordinates become exactly opp in sign\n",
    "# Taking all the columns other than the last 2 because the last 2 are the combined list of all pixel values\n",
    "clmns = data_copy.columns[:-2]\n",
    "for i in range(len(clmns)):\n",
    "    if i%2 == 0:\n",
    "        data_copy[clmns[i]] = data_copy[clmns[i]].apply(lambda i: 96. - i)         # in the maximum length of the image"
   ]
  },
  {
   "cell_type": "code",
   "execution_count": 5,
   "metadata": {},
   "outputs": [
    {
     "name": "stdout",
     "output_type": "stream",
     "text": [
      "(4280, 32)\n"
     ]
    },
    {
     "data": {
      "image/png": "[encoded data removed]",
      "text/plain": [
       "<Figure size 700x700 with 2 Axes>"
      ]
     },
     "metadata": {},
     "output_type": "display_data"
    }
   ],
   "source": [
    "fig = plt.figure(figsize = (7,7))\n",
    "\n",
    "ax = fig.add_subplot(1,2,1)\n",
    "plt.imshow(data['Image_reshaped'][11],cmap = 'gray')\n",
    "for factor in range(0,data.shape[1]-2,2):\n",
    "        plt.plot(data.loc[11][factor],data.loc[11][factor+1],'r*')       # key facial factors for every image displayed\n",
    "\n",
    "ax = fig.add_subplot(1,2,2)\n",
    "plt.imshow(data_copy['Image_reshaped'][11],cmap = 'gray')\n",
    "for factor in range(0,data_copy.shape[1]-2,2):\n",
    "        plt.plot(data_copy.loc[11][factor],data_copy.loc[11][factor+1],'r*')       # key facial factors for every image displayed\n",
    "\n",
    "\n",
    "df_augmented = pd.concat([data,data_copy])             # adding both dataframes\n",
    "print(df_augmented.shape)"
   ]
  },
  {
   "cell_type": "markdown",
   "metadata": {},
   "source": [
    "##### 2. Adding Brightened versions of Images"
   ]
  },
  {
   "cell_type": "code",
   "execution_count": 6,
   "metadata": {},
   "outputs": [
    {
     "name": "stdout",
     "output_type": "stream",
     "text": [
      "(6420, 32)\n"
     ]
    }
   ],
   "source": [
    "\n",
    "data_copy = data.copy()\n",
    "\n",
    "# multiplying each pixel value with any random value between 1 and 2 to brighten the image\n",
    "# clip image values between 0 and 255\n",
    "data_copy['Image_reshaped'] = data_copy['Image_reshaped'].apply(lambda i:np.clip( random.uniform(1,2)*i ,0.0,255.0))\n",
    "df_augmented = pd.concat([df_augmented,data_copy],axis=0)\n",
    "print(df_augmented.shape)"
   ]
  },
  {
   "cell_type": "markdown",
   "metadata": {},
   "source": [
    "##### 3. Adding Dimmed versions of Images"
   ]
  },
  {
   "cell_type": "code",
   "execution_count": 7,
   "metadata": {},
   "outputs": [
    {
     "name": "stdout",
     "output_type": "stream",
     "text": [
      "(8560, 32)\n"
     ]
    }
   ],
   "source": [
    "# Reducing brightness\n",
    "data_copy = data.copy()\n",
    "# multiplying each pixel value with any random value between 0 and 1 to dim the image\n",
    "# clip image values between 0 and 255\n",
    "data_copy['Image_reshaped'] = data_copy['Image_reshaped'].apply(lambda i: np.clip( random.uniform(0,1)*i , 0.0, 255.0))\n",
    "df_augmented = pd.concat([df_augmented,data_copy],axis = 0)\n",
    "print(df_augmented.shape)"
   ]
  },
  {
   "cell_type": "markdown",
   "metadata": {},
   "source": [
    "###### Image Augmentation along X Axis"
   ]
  },
  {
   "cell_type": "code",
   "execution_count": 8,
   "metadata": {},
   "outputs": [],
   "source": [
    "# # Flipping vertically won't change x coordinates but the y coordinates will be -y\n",
    "\n",
    "# data_copy = data.copy()\n",
    "\n",
    "# data_copy['Image_reshaped'] = data_copy['Image_reshaped'].apply(lambda i: np.flip(i,axis=0))   # axis 0 is X axis\n",
    "\n",
    "# # Flipping along x axis keeps the x coordinates the same while the y coordinates become exactly opp in sign\n",
    "# clmns = data_copy.columns[:-2]\n",
    "# for i in range(len(clmns)):\n",
    "#     if i%2 != 0:\n",
    "#         data_copy[clmns[i]] = data_copy[clmns[i]].apply(lambda i: 96. - i)         # in the maximum length of the image"
   ]
  },
  {
   "cell_type": "code",
   "execution_count": 9,
   "metadata": {},
   "outputs": [],
   "source": [
    "# fig = plt.figure(figsize = (7,7))\n",
    "\n",
    "# ax = fig.add_subplot(1,2,1)\n",
    "# plt.imshow(data['Image_reshaped'][11],cmap = 'gray')\n",
    "# for factor in range(0,data.shape[1]-2,2):\n",
    "#         plt.plot(data.loc[11][factor],data.loc[11][factor+1],'r*')       # key facial factors for every image displayed\n",
    "\n",
    "# ax = fig.add_subplot(1,2,2)\n",
    "# plt.imshow(data_copy['Image_reshaped'][11],cmap = 'gray')\n",
    "# for factor in range(0,data_copy.shape[1]-2,2):\n",
    "#         plt.plot(data_copy.loc[11][factor],data_copy.loc[11][factor+1],'r*')       # key facial factors for every image displayed\n",
    "\n",
    "\n",
    "# df_augmented = pd.concat([data,data_copy])             # adding both dataframes"
   ]
  },
  {
   "cell_type": "markdown",
   "metadata": {},
   "source": [
    "##### Data Normalization & Data Preparation"
   ]
  },
  {
   "cell_type": "code",
   "execution_count": 10,
   "metadata": {},
   "outputs": [
    {
     "data": {
      "text/plain": [
       "(8560, 96, 96, 1)"
      ]
     },
     "execution_count": 10,
     "metadata": {},
     "output_type": "execute_result"
    }
   ],
   "source": [
    "df_augmented.reset_index(inplace = True,drop = True)        # resetting index due to duplicate indices as we performed augmentation\n",
    "imgdata = df_augmented.iloc[:,-1]\n",
    "imgdata = imgdata/255          # data normalized to a scale of 0 to 1\n",
    "\n",
    "# Input array matches dimension of data - (8560,96,96,1)\n",
    "X = np.empty((len(imgdata),96,96,1))\n",
    "\n",
    "for i in range(len(imgdata)):\n",
    "    X[i,] = np.expand_dims(imgdata[i],axis=2)\n",
    "\n",
    "X = np.asarray(X).astype('float')           # Input data\n",
    "X.shape"
   ]
  },
  {
   "cell_type": "code",
   "execution_count": 11,
   "metadata": {},
   "outputs": [
    {
     "data": {
      "text/plain": [
       "(8560, 30)"
      ]
     },
     "execution_count": 11,
     "metadata": {},
     "output_type": "execute_result"
    }
   ],
   "source": [
    "# Getting the target values which are the 15 key facial points. Totally 30 coordinate points\n",
    "\n",
    "y = df_augmented.iloc[:,:-2]\n",
    "y = np.asarray(y).astype('float')         # Data points should be in float value as it is more sutiable for neural networks\n",
    "y.shape"
   ]
  },
  {
   "cell_type": "code",
   "execution_count": 12,
   "metadata": {},
   "outputs": [
    {
     "name": "stdout",
     "output_type": "stream",
     "text": [
      "(7704, 96, 96, 1)\n",
      "(7704, 30)\n",
      "(856, 96, 96, 1)\n",
      "(856, 30)\n"
     ]
    }
   ],
   "source": [
    "#Splitting the data into train and test data\n",
    "X_train, X_test, y_train, y_test = train_test_split(X,y, test_size = 0.1)\n",
    "print(X_train.shape,y_train.shape,X_test.shape,y_test.shape,sep='\\n')"
   ]
  },
  {
   "cell_type": "markdown",
   "metadata": {},
   "source": [
    "##### Building the Model"
   ]
  },
  {
   "cell_type": "code",
   "execution_count": 49,
   "metadata": {},
   "outputs": [],
   "source": []
  },
  {
   "cell_type": "code",
   "execution_count": null,
   "metadata": {},
   "outputs": [],
   "source": []
  }
 ],
 "metadata": {
  "kernelspec": {
   "display_name": "env_facialAI",
   "language": "python",
   "name": "python3"
  },
  "language_info": {
   "codemirror_mode": {
    "name": "ipython",
    "version": 3
   },
   "file_extension": ".py",
   "mimetype": "text/x-python",
   "name": "python",
   "nbconvert_exporter": "python",
   "pygments_lexer": "ipython3",
   "version": "3.10.12"
  },
  "orig_nbformat": 4
 },
 "nbformat": 4,
 "nbformat_minor": 2
}
